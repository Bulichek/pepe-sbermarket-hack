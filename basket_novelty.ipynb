{
 "cells": [
  {
   "cell_type": "code",
   "execution_count": 1,
   "metadata": {
    "ExecuteTime": {
     "end_time": "2020-10-11T04:02:41.039993Z",
     "start_time": "2020-10-11T04:02:39.877997Z"
    },
    "_cell_guid": "b1076dfc-b9ad-4769-8c92-a6c4dae69d19",
    "_uuid": "8f2839f25d086af736a60e9eeb907d3b93b6e0e5"
   },
   "outputs": [],
   "source": [
    "import numpy as np\n",
    "import pandas as pd"
   ]
  },
  {
   "cell_type": "code",
   "execution_count": 2,
   "metadata": {
    "_cell_guid": "79c7e3d0-c299-4dcb-8224-4455121ee9b0",
    "_uuid": "d629ff2d2480ee46fbb7e2d37f6b5fab8052498a"
   },
   "outputs": [],
   "source": [
    "import pandas as pd\n",
    "import seaborn as sns\n",
    "import glob\n",
    "import matplotlib.pyplot as plt\n",
    "from IPython.display import clear_output\n",
    "\n",
    "tables = {\n",
    "    'orders': '/kaggle/input/test-recsys/kaggle_tab_1345/tab_1_orders.csv',\n",
    "    'products': list(sorted(glob.glob('/kaggle/input/test-recsys/sbermarket_tab_2*/*'))),\n",
    "    'categories': '/kaggle/input/test-recsys/kaggle_tab_1345/tab_3_categories.csv',\n",
    "    'users': '/kaggle/input/test-recsys/kaggle_tab_1345/tab_4_user_profiles.csv',\n",
    "    'product_properties': '/kaggle/input/test-recsys/kaggle_tab_1345/tab_5_product_properties.csv',\n",
    "    'cities': '/kaggle/input/test-recsys/tab_6_city.csv',\n",
    "    'sample_susmission': '/kaggle/input/test-recsys/sample_submission.csv',\n",
    "}"
   ]
  },
  {
   "cell_type": "code",
   "execution_count": 3,
   "metadata": {},
   "outputs": [],
   "source": [
    "products = pd.concat(list(map(lambda x: pd.read_csv(x)[['user_id', 'product_id', 'order_id']], tables['products'])))\n",
    "\n",
    "products = products.sort_values(['user_id', 'order_id'], ascending=[True, False])\n",
    "last_orders = products[['user_id', 'order_id']].groupby('user_id').head(1)\n",
    "\n",
    "last_order_products = products.loc[products['order_id'].isin(last_orders['order_id'])].drop(columns = 'order_id').groupby('user_id')['product_id'].apply(list).reset_index()\n",
    "prev_order_products = products.loc[~products['order_id'].isin(last_orders['order_id'])].drop(columns = 'order_id').groupby('user_id')['product_id'].unique().reset_index()\n",
    "\n",
    "last_order_products['number_of_products'] = np.array(list(map(len,last_order_products.product_id.values)))\n",
    "prev_order_products['number_of_products'] = np.array(list(map(len,prev_order_products.product_id.values)))\n",
    "\n",
    "final_table = pd.merge(prev_order_products, last_order_products, how='inner', on='user_id')\n",
    "list_of_intersection = [len(list(set(a) & set(b))) for a, b in zip(list(final_table['product_id_x']), list(final_table['product_id_y']))]\n",
    "final_table['percent'] = np.array(list_of_intersection)/final_table['number_of_products_x'].to_numpy()*100"
   ]
  },
  {
   "cell_type": "code",
   "execution_count": 4,
   "metadata": {},
   "outputs": [
    {
     "data": {
      "image/png": "[encoded data removed]",
      "text/plain": [
       "<Figure size 720x432 with 1 Axes>"
      ]
     },
     "metadata": {
      "needs_background": "light"
     },
     "output_type": "display_data"
    }
   ],
   "source": [
    "plt.figure(figsize=(10,6))\n",
    "plt.hist(final_table[final_table['percent'] != 0]['percent'].sort_values().to_numpy(), bins=200)\n",
    "plt.xlabel('%', fontsize=15)\n",
    "plt.ylabel('Number of users', fontsize=15)\n",
    "plt.grid()\n",
    "clear_output()"
   ]
  }
 ],
 "metadata": {
  "kernelspec": {
   "display_name": "Python 3",
   "language": "python",
   "name": "python3"
  },
  "language_info": {
   "codemirror_mode": {
    "name": "ipython",
    "version": 3
   },
   "file_extension": ".py",
   "mimetype": "text/x-python",
   "name": "python",
   "nbconvert_exporter": "python",
   "pygments_lexer": "ipython3",
   "version": "3.7.7"
  }
 },
 "nbformat": 4,
 "nbformat_minor": 4
}
